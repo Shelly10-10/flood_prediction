{
  "cells": [
    {
      "cell_type": "markdown",
      "metadata": {
        "id": "view-in-github",
        "colab_type": "text"
      },
      "source": [
        "<a href=\"https://colab.research.google.com/github/Shelly10-10/flood_prediction/blob/main/disaster.ipynb\" target=\"_parent\"><img src=\"https://colab.research.google.com/assets/colab-badge.svg\" alt=\"Open In Colab\"/></a>"
      ]
    },
    {
      "cell_type": "code",
      "source": [
        "\n",
        "# Load sample data and do basic analysis\n",
        "import pandas as pd\n",
        "\n",
        "# Load built-in dataset from seaborn\n",
        "import seaborn as sns\n",
        "df = sns.load_dataset('iris')\n",
        "\n",
        "# Display first 5 rows\n",
        "print(\"Sample Data:\")\n",
        "print(df.head())\n",
        "\n",
        "# Basic statistics\n",
        "print(\"\\nData Description:\")\n",
        "print(df.describe())\n",
        "\n",
        "# Count by species\n",
        "print(\"\\nSpecies Count:\")\n",
        "print(df['species'].value_counts())\n"
      ],
      "metadata": {
        "id": "AVYAzBMRpo4N"
      },
      "execution_count": null,
      "outputs": []
    }
  ],
  "metadata": {
    "colab": {
      "provenance": [],
      "gpuType": "T4",
      "toc_visible": true,
      "include_colab_link": true
    },
    "kernelspec": {
      "display_name": "Python 3",
      "name": "python3"
    },
    "language_info": {
      "name": "python"
    },
    "accelerator": "GPU"
  },
  "nbformat": 4,
  "nbformat_minor": 0
}